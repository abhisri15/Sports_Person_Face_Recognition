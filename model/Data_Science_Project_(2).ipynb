{
  "cells": [
    {
      "cell_type": "code",
      "execution_count": null,
      "metadata": {
        "id": "6-bf1SnVqoD0"
      },
      "outputs": [],
      "source": [
        "import numpy as np\n",
        "import cv2\n",
        "import matplotlib\n",
        "from matplotlib import pyplot as plt\n",
        "%matplotlib inline"
      ]
    },
    {
      "cell_type": "code",
      "execution_count": null,
      "metadata": {
        "colab": {
          "base_uri": "https://localhost:8080/"
        },
        "id": "ogssA3T4wX2Q",
        "outputId": "e025e214-e29b-49c7-ea16-263d3b8a8d51"
      },
      "outputs": [],
      "source": [
        "img = cv2.imread(\"F:/IIIT Bhubaneswar/ML/projects/project (2) (codeBasics)/sportsPersonClassifier/model/test images/1.jpg\")\n",
        "print (img.shape)"
      ]
    },
    {
      "cell_type": "code",
      "execution_count": null,
      "metadata": {
        "colab": {
          "base_uri": "https://localhost:8080/",
          "height": 286
        },
        "id": "_GmdqqaXCcTm",
        "outputId": "56b424f6-87d0-4366-c55d-0f7fc7c70d48"
      },
      "outputs": [],
      "source": [
        "plt.imshow(img)"
      ]
    },
    {
      "cell_type": "code",
      "execution_count": null,
      "metadata": {
        "colab": {
          "base_uri": "https://localhost:8080/"
        },
        "id": "yS6QFjzaCmPt",
        "outputId": "ee63dbdf-ae98-4404-ab32-23cf289941df"
      },
      "outputs": [],
      "source": [
        "gray = cv2.cvtColor(img,cv2.COLOR_BGR2GRAY)\n",
        "gray.shape"
      ]
    },
    {
      "cell_type": "code",
      "execution_count": null,
      "metadata": {
        "colab": {
          "base_uri": "https://localhost:8080/"
        },
        "id": "LKAb-2lpC0xL",
        "outputId": "d7e719f1-2ede-484f-d4e1-3e9a5660041f"
      },
      "outputs": [],
      "source": [
        "gray"
      ]
    },
    {
      "cell_type": "code",
      "execution_count": null,
      "metadata": {
        "colab": {
          "base_uri": "https://localhost:8080/",
          "height": 286
        },
        "id": "JXqKchYuC7e8",
        "outputId": "fedc2d62-5417-44a6-e525-37af2af3f1c1"
      },
      "outputs": [],
      "source": [
        "plt.imshow(gray,cmap='gray')"
      ]
    },
    {
      "cell_type": "code",
      "execution_count": null,
      "metadata": {
        "colab": {
          "base_uri": "https://localhost:8080/"
        },
        "id": "Mx6US3cFDUoU",
        "outputId": "aa162d4c-5b2b-40c3-9a02-06ee8e94a2d2"
      },
      "outputs": [],
      "source": [
        "face_cascade = cv2.CascadeClassifier('F:/IIIT Bhubaneswar/ML/projects/project (2) (codeBasics)/sportsPersonClassifier/model/opencv/haarcascade_frontalface_default.xml')\n",
        "eye_cascade = cv2.CascadeClassifier('F:/IIIT Bhubaneswar/ML/projects/project (2) (codeBasics)/sportsPersonClassifier/model/opencv/haarcascade_eye.xml')\n",
        "\n",
        "faces = face_cascade.detectMultiScale(gray, 1.3, 5)\n",
        "faces"
      ]
    },
    {
      "cell_type": "code",
      "execution_count": null,
      "metadata": {
        "colab": {
          "base_uri": "https://localhost:8080/"
        },
        "id": "Aymwej-mGb-6",
        "outputId": "7b73f61e-09cd-4792-8a9d-a83a4b6f9e78"
      },
      "outputs": [],
      "source": [
        "(x,y,w,h) = faces[0]\n",
        "x,y,w,h"
      ]
    },
    {
      "cell_type": "code",
      "execution_count": null,
      "metadata": {
        "colab": {
          "base_uri": "https://localhost:8080/",
          "height": 286
        },
        "id": "otgFzDmvGf3Z",
        "outputId": "e8e65ed2-0d68-4c0e-e3a8-958c7d76627b"
      },
      "outputs": [],
      "source": [
        "face_img = cv2.rectangle(img,(x,y),(x+w,y+h),(250,0,0),2) # (250,0,0) is basically RGB, here it means rectangle will be red only\n",
        "plt.imshow(face_img)"
      ]
    },
    {
      "cell_type": "code",
      "execution_count": null,
      "metadata": {
        "colab": {
          "base_uri": "https://localhost:8080/",
          "height": 269
        },
        "id": "TS2NlB_qGvrR",
        "outputId": "c93e8f66-c0cc-4681-a460-7f82a4817f04"
      },
      "outputs": [],
      "source": [
        "cv2.destroyAllWindows()\n",
        "for (x,y,w,h) in faces:\n",
        "    face_img = cv2.rectangle(img,(x,y),(x+w,y+h),(255,0,0),2)\n",
        "    roi_gray = gray[y:y+h, x:x+w]\n",
        "    roi_color = face_img[y:y+h, x:x+w]\n",
        "    eyes = eye_cascade.detectMultiScale(roi_gray)\n",
        "    for (ex,ey,ew,eh) in eyes:\n",
        "        cv2.rectangle(roi_color,(ex,ey),(ex+ew,ey+eh),(0,255,0),2)\n",
        "        \n",
        "\n",
        "plt.figure()\n",
        "plt.imshow(face_img, cmap='gray')\n",
        "plt.show()"
      ]
    },
    {
      "cell_type": "code",
      "execution_count": null,
      "metadata": {
        "colab": {
          "base_uri": "https://localhost:8080/",
          "height": 286
        },
        "id": "tcErfovOVdt9",
        "outputId": "ee1d0827-9c45-4780-8803-71917ed8a5bb"
      },
      "outputs": [],
      "source": [
        "%matplotlib inline\n",
        "plt.imshow(roi_color,cmap='gray') # roi stands for Region of Interest"
      ]
    },
    {
      "cell_type": "code",
      "execution_count": null,
      "metadata": {
        "id": "6ba2Ul99Visl"
      },
      "outputs": [],
      "source": [
        "def get_cropped_image_if_2_eyes(image_path):\n",
        "    img = cv2.imread(image_path)\n",
        "    gray = cv2.cvtColor(img, cv2.COLOR_BGR2GRAY)\n",
        "    faces = face_cascade.detectMultiScale(gray, 1.3, 5)\n",
        "    for (x,y,w,h) in faces:\n",
        "        roi_gray = gray[y:y+h, x:x+w]\n",
        "        roi_color = img[y:y+h, x:x+w]\n",
        "        eyes = eye_cascade.detectMultiScale(roi_gray)\n",
        "        if len(eyes) >= 2:\n",
        "            return roi_color"
      ]
    },
    {
      "cell_type": "code",
      "execution_count": null,
      "metadata": {
        "colab": {
          "base_uri": "https://localhost:8080/",
          "height": 286
        },
        "id": "ppu52w5qZ55P",
        "outputId": "fe559a08-6b54-47de-ba14-6d2b9932bb88"
      },
      "outputs": [],
      "source": [
        "original_image = cv2.imread('F:/IIIT Bhubaneswar/ML/projects/project (2) (codeBasics)/sportsPersonClassifier/model/test images/1.jpg')\n",
        "plt.imshow(original_image)"
      ]
    },
    {
      "cell_type": "code",
      "execution_count": null,
      "metadata": {
        "colab": {
          "base_uri": "https://localhost:8080/",
          "height": 286
        },
        "id": "0NjwE0ymaRHs",
        "outputId": "47f3c700-cb3a-45ae-d6ac-ef56cf6de53d"
      },
      "outputs": [],
      "source": [
        "cropped_image = get_cropped_image_if_2_eyes('F:/IIIT Bhubaneswar/ML/projects/project (2) (codeBasics)/sportsPersonClassifier/model/test images/1.jpg')\n",
        "plt.imshow(cropped_image)"
      ]
    },
    {
      "cell_type": "code",
      "execution_count": null,
      "metadata": {
        "colab": {
          "base_uri": "https://localhost:8080/",
          "height": 286
        },
        "id": "436L3zkCabix",
        "outputId": "116e0df1-fe5b-4c4c-b5b9-03c0b8e4f4d1"
      },
      "outputs": [],
      "source": [
        "org_image_obstructed = cv2.imread(\"F:/IIIT Bhubaneswar/ML/projects/project (2) (codeBasics)/sportsPersonClassifier/model/test images/3.jpg\")\n",
        "plt.imshow(org_image_obstructed)"
      ]
    },
    {
      "cell_type": "code",
      "execution_count": null,
      "metadata": {
        "id": "cEnNJdJHb7Xq"
      },
      "outputs": [],
      "source": [
        "cropped_image_no_2_eyes = get_cropped_image_if_2_eyes(\"F:/IIIT Bhubaneswar/ML/projects/project (2) (codeBasics)/sportsPersonClassifier/model/test images/3.jpg\")\n",
        "cropped_image_no_2_eyes"
      ]
    },
    {
      "cell_type": "code",
      "execution_count": null,
      "metadata": {
        "id": "iHdx7TN1cLna"
      },
      "outputs": [],
      "source": [
        "path_to_data=\"F:/IIIT Bhubaneswar/ML/projects/project (2) (codeBasics)/sportsPersonClassifier/model/dataset\"\n",
        "path_to_cr_data=\"F:/IIIT Bhubaneswar/ML/projects/project (2) (codeBasics)/sportsPersonClassifier/model/dataset/cropped/\""
      ]
    },
    {
      "cell_type": "code",
      "execution_count": null,
      "metadata": {
        "id": "YoL0uwp21XmB"
      },
      "outputs": [],
      "source": [
        "import os\n",
        "img_dirs = []\n",
        "for entry in os.scandir(path_to_data):\n",
        "  if entry.is_dir():\n",
        "    img_dirs.append(entry.path)"
      ]
    },
    {
      "cell_type": "code",
      "execution_count": null,
      "metadata": {
        "colab": {
          "base_uri": "https://localhost:8080/"
        },
        "id": "FuX77Iws8ULN",
        "outputId": "957e28d2-edf3-443a-e71b-c15e04bef8a9"
      },
      "outputs": [],
      "source": [
        "img_dirs"
      ]
    },
    {
      "cell_type": "code",
      "execution_count": null,
      "metadata": {
        "id": "mWxLbJd-8U2M"
      },
      "outputs": [],
      "source": [
        "import shutil\n",
        "if os.path.exists(path_to_cr_data):\n",
        "     shutil.rmtree(path_to_cr_data)\n",
        "os.mkdir(path_to_cr_data)"
      ]
    },
    {
      "cell_type": "code",
      "execution_count": null,
      "metadata": {
        "colab": {
          "base_uri": "https://localhost:8080/",
          "height": 529
        },
        "id": "Fc1_2N1p8ftU",
        "outputId": "a76b0edf-a3b1-4e75-c184-203058234307"
      },
      "outputs": [],
      "source": [
        "cropped_image_dirs = []\n",
        "celebrity_file_names_dict = {}\n",
        "\n",
        "for img_dir in img_dirs:\n",
        "    count = 1\n",
        "    celebrity_name = img_dir.split('/')[-1]\n",
        "    print(celebrity_name)\n",
        "    \n",
        "    celebrity_file_names_dict[celebrity_name] = []\n",
        "    \n",
        "    for entry in os.scandir(img_dir):\n",
        "        roi_color = get_cropped_image_if_2_eyes(entry.path)\n",
        "        if roi_color is not None:\n",
        "            cropped_folder = path_to_cr_data + celebrity_name\n",
        "            if not os.path.exists(cropped_folder):\n",
        "                os.makedirs(cropped_folder)\n",
        "                cropped_image_dirs.append(cropped_folder)\n",
        "                print(\"Generating cropped images in folder: \",cropped_folder)\n",
        "                \n",
        "            cropped_file_name = celebrity_name + str(count) + \".png\"\n",
        "            cropped_file_path = cropped_folder + \"/\" + cropped_file_name \n",
        "            \n",
        "            cv2.imwrite(cropped_file_path, roi_color)\n",
        "            celebrity_file_names_dict[celebrity_name].append(cropped_file_path)\n",
        "            count += 1"
      ]
    },
    {
      "cell_type": "code",
      "execution_count": null,
      "metadata": {
        "id": "z6-umzALC67s"
      },
      "outputs": [],
      "source": [
        "import numpy as np\n",
        "import pywt\n",
        "import cv2    \n",
        "\n",
        "def w2d(img, mode='haar', level=1):\n",
        "    imArray = img\n",
        "    #Datatype conversions\n",
        "    #convert to grayscale\n",
        "    imArray = cv2.cvtColor( imArray,cv2.COLOR_RGB2GRAY )\n",
        "    #convert to float\n",
        "    imArray =  np.float32(imArray)   \n",
        "    imArray /= 255;\n",
        "    # compute coefficients \n",
        "    coeffs=pywt.wavedec2(imArray, mode, level=level)\n",
        "\n",
        "    #Process Coefficients\n",
        "    coeffs_H=list(coeffs)  \n",
        "    coeffs_H[0] *= 0;  \n",
        "\n",
        "    # reconstruction\n",
        "    imArray_H=pywt.waverec2(coeffs_H, mode);\n",
        "    imArray_H *= 255;\n",
        "    imArray_H =  np.uint8(imArray_H)\n",
        "\n",
        "    return imArray_H"
      ]
    },
    {
      "cell_type": "code",
      "execution_count": null,
      "metadata": {
        "colab": {
          "base_uri": "https://localhost:8080/"
        },
        "id": "15grEt3B86A_",
        "outputId": "4f3960e8-58fb-494c-eac8-8705c74f6187"
      },
      "outputs": [],
      "source": [
        "cropped_img = np.array(roi_color)\n",
        "cropped_img.shape"
      ]
    },
    {
      "cell_type": "code",
      "execution_count": null,
      "metadata": {
        "colab": {
          "base_uri": "https://localhost:8080/",
          "height": 286
        },
        "id": "__AnoKAl7b7e",
        "outputId": "701711a7-1f1c-4f4c-a87f-81de03605b7d"
      },
      "outputs": [],
      "source": [
        "im_har = w2d(cropped_img,'db1',5)\n",
        "plt.imshow(im_har, cmap='gray')"
      ]
    },
    {
      "cell_type": "code",
      "execution_count": null,
      "metadata": {
        "id": "tx5r8mSYKXTH"
      },
      "outputs": [],
      "source": [
        "# celebrity_file_names_dict"
      ]
    },
    {
      "cell_type": "code",
      "execution_count": null,
      "metadata": {
        "colab": {
          "base_uri": "https://localhost:8080/"
        },
        "id": "iJ2UvOAWg40n",
        "outputId": "d3f4cc1e-51cb-4519-df84-26687a9358cb"
      },
      "outputs": [],
      "source": [
        "class_dict = {}\n",
        "count = 0\n",
        "for celebrity_name in celebrity_file_names_dict.keys():\n",
        "    class_dict[celebrity_name] = count\n",
        "    count = count + 1\n",
        "class_dict"
      ]
    },
    {
      "cell_type": "code",
      "execution_count": null,
      "metadata": {
        "id": "VMhYY4EGgW3s"
      },
      "outputs": [],
      "source": [
        "X, y = [], []\n",
        "for celebrity_name, training_files in celebrity_file_names_dict.items():\n",
        "    for training_image in training_files:\n",
        "        img = cv2.imread(training_image)\n",
        "        if img is None:\n",
        "          continue\n",
        "        scalled_raw_img = cv2.resize(img, (32, 32))\n",
        "        img_har = w2d(img,'db1',5)\n",
        "        scalled_img_har = cv2.resize(img_har, (32, 32))\n",
        "        combined_img = np.vstack((scalled_raw_img.reshape(32*32*3,1),scalled_img_har.reshape(32*32,1)))\n",
        "        X.append(combined_img)\n",
        "        y.append(class_dict[celebrity_name])"
      ]
    },
    {
      "cell_type": "code",
      "execution_count": null,
      "metadata": {
        "colab": {
          "base_uri": "https://localhost:8080/"
        },
        "id": "GIOcroi-hA5B",
        "outputId": "a6952f23-9a92-4bd8-e4ef-cef16c84dc3f"
      },
      "outputs": [],
      "source": [
        "len(X)"
      ]
    },
    {
      "cell_type": "code",
      "execution_count": null,
      "metadata": {
        "colab": {
          "base_uri": "https://localhost:8080/"
        },
        "id": "Q2rxgxSCitXX",
        "outputId": "5586b08b-e263-409c-c89f-83063c472bd1"
      },
      "outputs": [],
      "source": [
        "X = np.array(X).reshape(len(X),4096).astype(float)\n",
        "X.shape"
      ]
    },
    {
      "cell_type": "code",
      "execution_count": null,
      "metadata": {
        "id": "ghEppngui_cW"
      },
      "outputs": [],
      "source": [
        "from sklearn.svm import SVC\n",
        "from sklearn.preprocessing import StandardScaler\n",
        "from sklearn.model_selection import train_test_split\n",
        "from sklearn.pipeline import Pipeline\n",
        "from sklearn.metrics import classification_report"
      ]
    },
    {
      "cell_type": "code",
      "execution_count": null,
      "metadata": {
        "colab": {
          "base_uri": "https://localhost:8080/"
        },
        "id": "NCUlr5xSVE3b",
        "outputId": "27e5829f-8cfc-4b88-e1aa-fd81ca1336e9"
      },
      "outputs": [],
      "source": [
        "X_train, X_test, y_train, y_test = train_test_split(X, y, random_state=0)\n",
        "\n",
        "pipe = Pipeline([('scaler', StandardScaler()), ('svc', SVC(kernel = 'rbf', C = 10))])\n",
        "pipe.fit(X_train, y_train)\n",
        "pipe.score(X_test, y_test)"
      ]
    },
    {
      "cell_type": "code",
      "execution_count": null,
      "metadata": {
        "colab": {
          "base_uri": "https://localhost:8080/"
        },
        "id": "rgTzkhrcVE8r",
        "outputId": "cd26350b-b389-403e-f227-fbac1698a019"
      },
      "outputs": [],
      "source": [
        "print(classification_report(y_test, pipe.predict(X_test)))"
      ]
    },
    {
      "cell_type": "code",
      "execution_count": null,
      "metadata": {
        "id": "onseMKfRVIZy"
      },
      "outputs": [],
      "source": [
        "from sklearn import svm\n",
        "from sklearn.ensemble import RandomForestClassifier\n",
        "from sklearn.linear_model import LogisticRegression\n",
        "from sklearn.pipeline import make_pipeline\n",
        "from sklearn.model_selection import GridSearchCV"
      ]
    },
    {
      "cell_type": "code",
      "execution_count": null,
      "metadata": {
        "id": "SLVvcTv1VfQ7"
      },
      "outputs": [],
      "source": [
        "model_params = {\n",
        "    'svm': {\n",
        "        'model': svm.SVC(gamma='auto',probability=True),\n",
        "        'params' : {\n",
        "            'svc__C': [1,10,100,1000],\n",
        "            'svc__kernel': ['rbf','linear']\n",
        "        }  \n",
        "    },\n",
        "    'random_forest': {\n",
        "        'model': RandomForestClassifier(),\n",
        "        'params' : {\n",
        "            'randomforestclassifier__n_estimators': [1,5,10]\n",
        "        }\n",
        "    },\n",
        "    'logistic_regression' : {\n",
        "        'model': LogisticRegression(solver='liblinear',multi_class='auto'),\n",
        "        'params': {\n",
        "            'logisticregression__C': [1,5,10]\n",
        "        }\n",
        "    }\n",
        "}"
      ]
    },
    {
      "cell_type": "code",
      "execution_count": null,
      "metadata": {
        "colab": {
          "base_uri": "https://localhost:8080/",
          "height": 143
        },
        "id": "E1LXyz6iVhMB",
        "outputId": "ab9c1939-d9e4-49c1-b07b-891439b96171"
      },
      "outputs": [],
      "source": [
        "scores = []\n",
        "best_estimators = {}\n",
        "import pandas as pd\n",
        "for algo, mp in model_params.items():\n",
        "    pipe = make_pipeline(StandardScaler(), mp['model'])\n",
        "    clf =  GridSearchCV(pipe, mp['params'], cv=5, return_train_score=False)\n",
        "    clf.fit(X_train, y_train)\n",
        "    scores.append({\n",
        "        'model': algo,\n",
        "        'best_score': clf.best_score_,\n",
        "        'best_params': clf.best_params_\n",
        "    })\n",
        "    best_estimators[algo] = clf.best_estimator_\n",
        "    \n",
        "df = pd.DataFrame(scores,columns=['model','best_score','best_params'])\n",
        "df"
      ]
    },
    {
      "cell_type": "code",
      "execution_count": null,
      "metadata": {
        "colab": {
          "base_uri": "https://localhost:8080/"
        },
        "id": "6awYpl4HVjgn",
        "outputId": "49058b24-28f6-42a3-b9ea-9d99ad19edba"
      },
      "outputs": [],
      "source": [
        "best_estimators"
      ]
    },
    {
      "cell_type": "code",
      "execution_count": null,
      "metadata": {
        "colab": {
          "base_uri": "https://localhost:8080/"
        },
        "id": "vF_lhRdhWQTJ",
        "outputId": "32da388d-6fd5-4061-bd41-8956503ebb32"
      },
      "outputs": [],
      "source": [
        "best_estimators['svm'].score(X_test,y_test)"
      ]
    },
    {
      "cell_type": "code",
      "execution_count": null,
      "metadata": {
        "colab": {
          "base_uri": "https://localhost:8080/"
        },
        "id": "GQZ-nGg-WUpW",
        "outputId": "3beba66e-f297-4acf-d1f7-30878740b268"
      },
      "outputs": [],
      "source": [
        "best_estimators['random_forest'].score(X_test,y_test)"
      ]
    },
    {
      "cell_type": "code",
      "execution_count": null,
      "metadata": {
        "colab": {
          "base_uri": "https://localhost:8080/"
        },
        "id": "Be0dSw3AWXWW",
        "outputId": "a81a80b6-9821-4bff-a221-3a0eec929d92"
      },
      "outputs": [],
      "source": [
        "best_estimators['logistic_regression'].score(X_test,y_test)"
      ]
    },
    {
      "cell_type": "code",
      "execution_count": null,
      "metadata": {
        "id": "CHiENEnwWXyR"
      },
      "outputs": [],
      "source": [
        "best_clf = best_estimators['svm']"
      ]
    },
    {
      "cell_type": "code",
      "execution_count": null,
      "metadata": {
        "colab": {
          "base_uri": "https://localhost:8080/"
        },
        "id": "KiARWQDMWZmL",
        "outputId": "11d1dff4-c809-4279-a63d-c107d28d3e86"
      },
      "outputs": [],
      "source": [
        "from sklearn.metrics import confusion_matrix\n",
        "cm = confusion_matrix(y_test, best_clf.predict(X_test))\n",
        "cm"
      ]
    },
    {
      "cell_type": "code",
      "execution_count": null,
      "metadata": {
        "colab": {
          "base_uri": "https://localhost:8080/",
          "height": 463
        },
        "id": "wXRnugjOWa0X",
        "outputId": "8e5e58ae-4262-43ec-b640-a553c8d7297c"
      },
      "outputs": [],
      "source": [
        "import seaborn as sn\n",
        "plt.figure(figsize = (10,7))\n",
        "sn.heatmap(cm, annot=True)\n",
        "plt.xlabel('Predicted')\n",
        "plt.ylabel('Truth')"
      ]
    },
    {
      "cell_type": "code",
      "execution_count": null,
      "metadata": {
        "colab": {
          "base_uri": "https://localhost:8080/"
        },
        "id": "PseUXGDHWcZR",
        "outputId": "e217e1bc-0cf2-4d59-9b1c-b788509d0c6b"
      },
      "outputs": [],
      "source": [
        "class_dict"
      ]
    },
    {
      "cell_type": "code",
      "execution_count": null,
      "metadata": {
        "colab": {
          "base_uri": "https://localhost:8080/"
        },
        "id": "KBSxoZqFWdlT",
        "outputId": "b9299b44-ac2b-4977-c35b-d1fc68ee5dfb"
      },
      "outputs": [],
      "source": [
        "'''!pip install joblib\n",
        "import joblib \n",
        "# Save the model as a pickle in a file \n",
        "joblib.dump(best_clf, '/content/drive/MyDrive/Data Science Projects (Datasets).pkl') '''"
      ]
    },
    {
      "cell_type": "code",
      "execution_count": null,
      "metadata": {
        "id": "GVOaVNTOcEaB"
      },
      "outputs": [],
      "source": [
        "'''import json\n",
        "with open(\"/content/drive/MyDrive/Data Science Projects (Datasets)/class_dictionary.json\",\"w\") as f:\n",
        "    f.write(json.dumps(class_dict))'''"
      ]
    }
  ],
  "metadata": {
    "colab": {
      "provenance": []
    },
    "kernelspec": {
      "display_name": "Python 3.10.4 64-bit (microsoft store)",
      "language": "python",
      "name": "python3"
    },
    "language_info": {
      "codemirror_mode": {
        "name": "ipython",
        "version": 3
      },
      "file_extension": ".py",
      "mimetype": "text/x-python",
      "name": "python",
      "nbconvert_exporter": "python",
      "pygments_lexer": "ipython3",
      "version": "3.10.4"
    },
    "vscode": {
      "interpreter": {
        "hash": "cacdccf2a0ba707568dbde96563737062f4562e2228eece512afd61cfd9761a3"
      }
    }
  },
  "nbformat": 4,
  "nbformat_minor": 0
}
